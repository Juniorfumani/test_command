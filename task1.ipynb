{
 "cells": [
  {
   "cell_type": "markdown",
   "id": "0f528abd",
   "metadata": {},
   "source": [
    "# task1"
   ]
  },
  {
   "cell_type": "code",
   "execution_count": null,
   "id": "9cb3f2ce",
   "metadata": {},
   "outputs": [],
   "source": [
    "def fizz_buzz(num,):\n",
    "    #checking the multiple of 3\n",
    "    if num % 3==0: \n",
    "        print( num, 'is multiple of 3')\n",
    "       \n",
    "    # #checking the multiple of 5    \n",
    "    if num % 5==0: \n",
    "        print( num, 'is multiple of 5')\n",
    "    return num\n",
    "\n",
    "if __name__ == \"__main__\":\n",
    "\n",
    "    for n in range(1, 1000):\n",
    "        print(fizz_buzz(n))\n",
    "        \n",
    "#calculating the sum\n",
    "nums = [3, 5]\n",
    "max = 1000\n",
    "\n",
    "result = 0\n",
    "for num in nums:\n",
    "    for i in range(1,max):\n",
    "        if num*i < max:\n",
    "            result += num*i\n",
    "print(\"the sum of multiples of 3 is :\",result)\n",
    "\n",
    "result = 0\n",
    "for i in range(0,max):\n",
    "    if i%3 == 0 or i%5 == 0:\n",
    "        result += i\n",
    "\n",
    "print(\"the sum of multiples of 5 is :\",result)"
   ]
  }
 ],
 "metadata": {
  "kernelspec": {
   "display_name": "Python 3",
   "language": "python",
   "name": "python3"
  },
  "language_info": {
   "codemirror_mode": {
    "name": "ipython",
    "version": 3
   },
   "file_extension": ".py",
   "mimetype": "text/x-python",
   "name": "python",
   "nbconvert_exporter": "python",
   "pygments_lexer": "ipython3",
   "version": "3.8.8"
  }
 },
 "nbformat": 4,
 "nbformat_minor": 5
}
